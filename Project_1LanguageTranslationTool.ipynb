{
 "cells": [
  {
   "cell_type": "code",
   "execution_count": 2,
   "id": "8b455429",
   "metadata": {},
   "outputs": [],
   "source": [
    "from tkinter import *\n",
    "from tkinter import ttk\n",
    "from googletrans import Translator, LANGUAGES"
   ]
  },
  {
   "cell_type": "code",
   "execution_count": 30,
   "id": "41b660db",
   "metadata": {},
   "outputs": [],
   "source": [
    "root = Tk()\n",
    "root.geometry('1065x300')\n",
    "root.resizable(0,0)\n",
    "#root.iconbitmap('logo adeena') for image/icon\n",
    "root['bg']='purple'\n",
    "root.title(\"language translator\")\n",
    "\n",
    "\n",
    "\n",
    "# Create a frame for the title\n",
    "title_frame = Frame(root, bg= 'plum', pady=10)\n",
    "title_frame.pack(fill=\"x\")\n",
    "\n",
    "# Add the title label\n",
    "Label(title_frame, text=\"Language Translator\", font= 'arial 24 bold', bg= 'plum' ).pack()\n",
    "\n",
    "\n",
    "Label(root,text = \"Enter Text:\", font = 'arial 13 bold' , bg = 'white').place(x=30, y=90)\n",
    "Input_text = Entry(root, width=60)\n",
    "Input_text.place(x=30,y = 130)\n",
    "Input_text.get()\n",
    "\n",
    "Label(root, text = \"Output:\", font = 'arial 13 bold', bg = 'white').place(x=600, y=90)\n",
    "Output_text = Text(root, font = 'arial 10', height = 5, wrap = WORD, padx= 5, pady=5, width= 60)\n",
    "Output_text.place(x= 600, y = 130)\n",
    "\n",
    "language = list(LANGUAGES.values())\n",
    "\n",
    "dest_lang= ttk.Combobox(root, values= language, width = 22)\n",
    "dest_lang.place(x=130, y=180)\n",
    "dest_lang.set('choose language')\n",
    "\n"
   ]
  },
  {
   "cell_type": "code",
   "execution_count": 31,
   "id": "c3d52f8d",
   "metadata": {},
   "outputs": [],
   "source": [
    "\n",
    "def Translate():\n",
    "    translator = Translator()\n",
    "    translated= translator.translate(text=Input_text.get(), dest = dest_lang.get())\n",
    "    Output_text.delete(1.0, END)\n",
    "    Output_text.insert(END, translated.text)\n",
    "\n",
    "trans_btn= Button(root, text='Translate', font= 'arial 12 bold', pady = 5, command= Translate, bg= 'plum', activebackground='plum2')\n",
    "trans_btn.place(x= 445, y=180)\n",
    "\n",
    "root.mainloop()"
   ]
  },
  {
   "cell_type": "code",
   "execution_count": null,
   "id": "a104d6e1",
   "metadata": {},
   "outputs": [],
   "source": []
  }
 ],
 "metadata": {
  "kernelspec": {
   "display_name": "Python 3 (ipykernel)",
   "language": "python",
   "name": "python3"
  },
  "language_info": {
   "codemirror_mode": {
    "name": "ipython",
    "version": 3
   },
   "file_extension": ".py",
   "mimetype": "text/x-python",
   "name": "python",
   "nbconvert_exporter": "python",
   "pygments_lexer": "ipython3",
   "version": "3.11.5"
  }
 },
 "nbformat": 4,
 "nbformat_minor": 5
}
